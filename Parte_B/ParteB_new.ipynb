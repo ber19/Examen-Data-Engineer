{
 "cells": [
  {
   "cell_type": "code",
   "execution_count": 1,
   "metadata": {},
   "outputs": [],
   "source": [
    "import pandas as pd\n",
    "from os import path\n",
    "\n",
    "path_partB = \"C:\\\\Users\\\\bm-\\\\Downloads\\\\Parte B\\\\Parte B\""
   ]
  },
  {
   "cell_type": "code",
   "execution_count": 2,
   "metadata": {},
   "outputs": [],
   "source": [
    "df_b = pd.read_csv(path.join(path_partB, \"Examen Parte B.csv\"), sep=\",\", header=0)  #########"
   ]
  },
  {
   "cell_type": "code",
   "execution_count": 3,
   "metadata": {},
   "outputs": [
    {
     "name": "stdout",
     "output_type": "stream",
     "text": [
      "Comercio Id                  2000\n",
      "Mes Operacion                2000\n",
      "Estado                       2000\n",
      "Moneda                       2000\n",
      "# Transacciones              2000\n",
      "Monto Transaccion            2000\n",
      "Monto Contracargo (Venta)    2000\n",
      "dtype: int64 \n",
      "\n",
      "Comercio Id                   int64\n",
      "Mes Operacion                object\n",
      "Estado                       object\n",
      "Moneda                       object\n",
      "# Transacciones              object\n",
      "Monto Transaccion            object\n",
      "Monto Contracargo (Venta)    object\n",
      "dtype: object \n",
      "\n"
     ]
    },
    {
     "data": {
      "text/html": [
       "<div>\n",
       "<style scoped>\n",
       "    .dataframe tbody tr th:only-of-type {\n",
       "        vertical-align: middle;\n",
       "    }\n",
       "\n",
       "    .dataframe tbody tr th {\n",
       "        vertical-align: top;\n",
       "    }\n",
       "\n",
       "    .dataframe thead th {\n",
       "        text-align: right;\n",
       "    }\n",
       "</style>\n",
       "<table border=\"1\" class=\"dataframe\">\n",
       "  <thead>\n",
       "    <tr style=\"text-align: right;\">\n",
       "      <th></th>\n",
       "      <th>Comercio Id</th>\n",
       "      <th>Mes Operacion</th>\n",
       "      <th>Estado</th>\n",
       "      <th>Moneda</th>\n",
       "      <th># Transacciones</th>\n",
       "      <th>Monto Transaccion</th>\n",
       "      <th>Monto Contracargo (Venta)</th>\n",
       "    </tr>\n",
       "  </thead>\n",
       "  <tbody>\n",
       "    <tr>\n",
       "      <th>0</th>\n",
       "      <td>0</td>\n",
       "      <td>01/07/21</td>\n",
       "      <td>IN_PROGRESS</td>\n",
       "      <td>MXN</td>\n",
       "      <td>3,679,780</td>\n",
       "      <td>11,928,910,467</td>\n",
       "      <td>0</td>\n",
       "    </tr>\n",
       "    <tr>\n",
       "      <th>1</th>\n",
       "      <td>0</td>\n",
       "      <td>01/07/21</td>\n",
       "      <td>COMPLETED</td>\n",
       "      <td>MXN</td>\n",
       "      <td>12,366</td>\n",
       "      <td>23,472,915</td>\n",
       "      <td>0</td>\n",
       "    </tr>\n",
       "    <tr>\n",
       "      <th>2</th>\n",
       "      <td>0</td>\n",
       "      <td>01/07/21</td>\n",
       "      <td>FAILED</td>\n",
       "      <td>MXN</td>\n",
       "      <td>5,115</td>\n",
       "      <td>7,124,189.72</td>\n",
       "      <td>0</td>\n",
       "    </tr>\n",
       "    <tr>\n",
       "      <th>3</th>\n",
       "      <td>0</td>\n",
       "      <td>01/08/21</td>\n",
       "      <td>IN_PROGRESS</td>\n",
       "      <td>MXN</td>\n",
       "      <td>2,536,306</td>\n",
       "      <td>8,193,985,268</td>\n",
       "      <td>0</td>\n",
       "    </tr>\n",
       "    <tr>\n",
       "      <th>4</th>\n",
       "      <td>0</td>\n",
       "      <td>01/08/21</td>\n",
       "      <td>CANCELLED</td>\n",
       "      <td>MXN</td>\n",
       "      <td>876,854</td>\n",
       "      <td>2,786,923,528</td>\n",
       "      <td>0</td>\n",
       "    </tr>\n",
       "  </tbody>\n",
       "</table>\n",
       "</div>"
      ],
      "text/plain": [
       "   Comercio Id Mes Operacion       Estado Moneda # Transacciones  \\\n",
       "0            0      01/07/21  IN_PROGRESS    MXN       3,679,780   \n",
       "1            0      01/07/21    COMPLETED    MXN          12,366   \n",
       "2            0      01/07/21       FAILED    MXN           5,115   \n",
       "3            0      01/08/21  IN_PROGRESS    MXN       2,536,306   \n",
       "4            0      01/08/21    CANCELLED    MXN         876,854   \n",
       "\n",
       "  Monto Transaccion Monto Contracargo (Venta)  \n",
       "0    11,928,910,467                         0  \n",
       "1        23,472,915                         0  \n",
       "2      7,124,189.72                         0  \n",
       "3     8,193,985,268                         0  \n",
       "4     2,786,923,528                         0  "
      ]
     },
     "execution_count": 3,
     "metadata": {},
     "output_type": "execute_result"
    }
   ],
   "source": [
    "print(df_b.count(), \"\\n\")\n",
    "print(df_b.dtypes, \"\\n\")\n",
    "df_b.head()"
   ]
  },
  {
   "cell_type": "code",
   "execution_count": 5,
   "metadata": {},
   "outputs": [],
   "source": [
    "df_b1 = df_b.copy() #########"
   ]
  },
  {
   "cell_type": "code",
   "execution_count": 6,
   "metadata": {},
   "outputs": [],
   "source": [
    "df_b1[[\"# Transacciones\", \"Monto Transaccion\", \"Monto Contracargo (Venta)\"]] = \\\n",
    "df_b1[[\"# Transacciones\", \"Monto Transaccion\", \"Monto Contracargo (Venta)\"]].replace(to_replace=\"[^\\d\\.]\", value=\"\", regex=True)"
   ]
  },
  {
   "cell_type": "code",
   "execution_count": 7,
   "metadata": {},
   "outputs": [
    {
     "data": {
      "text/html": [
       "<div>\n",
       "<style scoped>\n",
       "    .dataframe tbody tr th:only-of-type {\n",
       "        vertical-align: middle;\n",
       "    }\n",
       "\n",
       "    .dataframe tbody tr th {\n",
       "        vertical-align: top;\n",
       "    }\n",
       "\n",
       "    .dataframe thead th {\n",
       "        text-align: right;\n",
       "    }\n",
       "</style>\n",
       "<table border=\"1\" class=\"dataframe\">\n",
       "  <thead>\n",
       "    <tr style=\"text-align: right;\">\n",
       "      <th></th>\n",
       "      <th>Comercio Id</th>\n",
       "      <th>Mes Operacion</th>\n",
       "      <th>Estado</th>\n",
       "      <th>Moneda</th>\n",
       "      <th># Transacciones</th>\n",
       "      <th>Monto Transaccion</th>\n",
       "      <th>Monto Contracargo (Venta)</th>\n",
       "    </tr>\n",
       "  </thead>\n",
       "  <tbody>\n",
       "    <tr>\n",
       "      <th>0</th>\n",
       "      <td>0</td>\n",
       "      <td>01/07/21</td>\n",
       "      <td>IN_PROGRESS</td>\n",
       "      <td>MXN</td>\n",
       "      <td>3679780</td>\n",
       "      <td>11928910467</td>\n",
       "      <td>0</td>\n",
       "    </tr>\n",
       "    <tr>\n",
       "      <th>1</th>\n",
       "      <td>0</td>\n",
       "      <td>01/07/21</td>\n",
       "      <td>COMPLETED</td>\n",
       "      <td>MXN</td>\n",
       "      <td>12366</td>\n",
       "      <td>23472915</td>\n",
       "      <td>0</td>\n",
       "    </tr>\n",
       "    <tr>\n",
       "      <th>2</th>\n",
       "      <td>0</td>\n",
       "      <td>01/07/21</td>\n",
       "      <td>FAILED</td>\n",
       "      <td>MXN</td>\n",
       "      <td>5115</td>\n",
       "      <td>7124189.72</td>\n",
       "      <td>0</td>\n",
       "    </tr>\n",
       "    <tr>\n",
       "      <th>3</th>\n",
       "      <td>0</td>\n",
       "      <td>01/08/21</td>\n",
       "      <td>IN_PROGRESS</td>\n",
       "      <td>MXN</td>\n",
       "      <td>2536306</td>\n",
       "      <td>8193985268</td>\n",
       "      <td>0</td>\n",
       "    </tr>\n",
       "    <tr>\n",
       "      <th>4</th>\n",
       "      <td>0</td>\n",
       "      <td>01/08/21</td>\n",
       "      <td>CANCELLED</td>\n",
       "      <td>MXN</td>\n",
       "      <td>876854</td>\n",
       "      <td>2786923528</td>\n",
       "      <td>0</td>\n",
       "    </tr>\n",
       "  </tbody>\n",
       "</table>\n",
       "</div>"
      ],
      "text/plain": [
       "   Comercio Id Mes Operacion       Estado Moneda # Transacciones  \\\n",
       "0            0      01/07/21  IN_PROGRESS    MXN         3679780   \n",
       "1            0      01/07/21    COMPLETED    MXN           12366   \n",
       "2            0      01/07/21       FAILED    MXN            5115   \n",
       "3            0      01/08/21  IN_PROGRESS    MXN         2536306   \n",
       "4            0      01/08/21    CANCELLED    MXN          876854   \n",
       "\n",
       "  Monto Transaccion Monto Contracargo (Venta)  \n",
       "0       11928910467                         0  \n",
       "1          23472915                         0  \n",
       "2        7124189.72                         0  \n",
       "3        8193985268                         0  \n",
       "4        2786923528                         0  "
      ]
     },
     "execution_count": 7,
     "metadata": {},
     "output_type": "execute_result"
    }
   ],
   "source": [
    "df_b1.head()"
   ]
  },
  {
   "cell_type": "markdown",
   "metadata": {},
   "source": [
    "**a)\tColoque las características en el formato apropiado.**"
   ]
  },
  {
   "cell_type": "code",
   "execution_count": 8,
   "metadata": {},
   "outputs": [],
   "source": [
    "#---a\n",
    "df_b1[\"Comercio Id\"] = df_b1[\"Comercio Id\"].astype(int)\n",
    "df_b1[\"Mes Operacion\"] = pd.to_datetime(df_b1[\"Mes Operacion\"], format=\"%d/%m/%y\")\n",
    "df_b1[\"# Transacciones\"] = df_b1[\"# Transacciones\"].astype(int)\n",
    "df_b1[\"Monto Transaccion\"] = df_b1[\"Monto Transaccion\"].astype(float)\n",
    "df_b1[\"Monto Contracargo (Venta)\"] = df_b1[\"Monto Contracargo (Venta)\"].astype(float)"
   ]
  },
  {
   "cell_type": "code",
   "execution_count": 9,
   "metadata": {},
   "outputs": [
    {
     "data": {
      "text/plain": [
       "Comercio Id                           int32\n",
       "Mes Operacion                datetime64[ns]\n",
       "Estado                               object\n",
       "Moneda                               object\n",
       "# Transacciones                       int32\n",
       "Monto Transaccion                   float64\n",
       "Monto Contracargo (Venta)           float64\n",
       "dtype: object"
      ]
     },
     "execution_count": 9,
     "metadata": {},
     "output_type": "execute_result"
    }
   ],
   "source": [
    "df_b1.dtypes"
   ]
  },
  {
   "cell_type": "markdown",
   "metadata": {},
   "source": [
    "**b)\tFiltre solo las monedas correspondientes a MXN y USD**"
   ]
  },
  {
   "cell_type": "code",
   "execution_count": 10,
   "metadata": {},
   "outputs": [],
   "source": [
    "#---b\n",
    "df_b2 = df_b1[(df_b1[\"Moneda\"]==\"MXN\") | (df_b1[\"Moneda\"]==\"USD\")].reset_index(drop=True)  #########"
   ]
  },
  {
   "cell_type": "code",
   "execution_count": 11,
   "metadata": {},
   "outputs": [
    {
     "name": "stdout",
     "output_type": "stream",
     "text": [
      "Moneda\n",
      "AED       8\n",
      "ARS       2\n",
      "CLP      10\n",
      "COP      52\n",
      "EUR      18\n",
      "JPY      12\n",
      "MXN    1855\n",
      "PKR       8\n",
      "TWD       6\n",
      "USD      29\n",
      "Name: Comercio Id, dtype: int64 \n",
      "\n",
      "Moneda\n",
      "MXN    1855\n",
      "USD      29\n",
      "Name: Comercio Id, dtype: int64\n"
     ]
    }
   ],
   "source": [
    "print(df_b1.groupby(\"Moneda\").count()[\"Comercio Id\"],\"\\n\")\n",
    "print(df_b2.groupby(\"Moneda\").count()[\"Comercio Id\"])"
   ]
  },
  {
   "cell_type": "markdown",
   "metadata": {},
   "source": [
    "**c)\tRealice una transformación de los dólares a pesos de la misma forma que en el ejercicio anterior.**"
   ]
  },
  {
   "cell_type": "code",
   "execution_count": 12,
   "metadata": {},
   "outputs": [],
   "source": [
    "#---c\n",
    "from urllib.request import urlopen\n",
    "import json\n",
    "\n",
    "with urlopen(\"https://www.banxico.org.mx/SieAPIRest/service/v1/series/SF43718/datos?\"+\n",
    "\"token=1728d77b21b641c1704df48ee020b179966b4100f187bc9c2bc83d0f671ad83b\") as response:\n",
    "    resp = json.loads(response.read().decode(\"utf8\"))\n",
    "\n",
    "data = resp[\"bmx\"][\"series\"][0][\"datos\"]\n",
    "df_tiposCambio = pd.DataFrame(data)\n",
    "df_tiposCambio[\"fecha\"] = pd.to_datetime(df_tiposCambio[\"fecha\"], format=\"%d/%m/%Y\")\n",
    "df_tiposCambio[\"dato\"] = pd.to_numeric(df_tiposCambio[\"dato\"], downcast=\"float\")"
   ]
  },
  {
   "cell_type": "code",
   "execution_count": 13,
   "metadata": {},
   "outputs": [
    {
     "data": {
      "text/html": [
       "<div>\n",
       "<style scoped>\n",
       "    .dataframe tbody tr th:only-of-type {\n",
       "        vertical-align: middle;\n",
       "    }\n",
       "\n",
       "    .dataframe tbody tr th {\n",
       "        vertical-align: top;\n",
       "    }\n",
       "\n",
       "    .dataframe thead th {\n",
       "        text-align: right;\n",
       "    }\n",
       "</style>\n",
       "<table border=\"1\" class=\"dataframe\">\n",
       "  <thead>\n",
       "    <tr style=\"text-align: right;\">\n",
       "      <th></th>\n",
       "      <th>fecha</th>\n",
       "      <th>dato</th>\n",
       "    </tr>\n",
       "  </thead>\n",
       "  <tbody>\n",
       "    <tr>\n",
       "      <th>0</th>\n",
       "      <td>1991-11</td>\n",
       "      <td>3.068377</td>\n",
       "    </tr>\n",
       "    <tr>\n",
       "      <th>1</th>\n",
       "      <td>1991-12</td>\n",
       "      <td>3.070921</td>\n",
       "    </tr>\n",
       "    <tr>\n",
       "      <th>2</th>\n",
       "      <td>1992-01</td>\n",
       "      <td>3.067723</td>\n",
       "    </tr>\n",
       "    <tr>\n",
       "      <th>3</th>\n",
       "      <td>1992-02</td>\n",
       "      <td>3.062905</td>\n",
       "    </tr>\n",
       "    <tr>\n",
       "      <th>4</th>\n",
       "      <td>1992-03</td>\n",
       "      <td>3.066768</td>\n",
       "    </tr>\n",
       "    <tr>\n",
       "      <th>...</th>\n",
       "      <td>...</td>\n",
       "      <td>...</td>\n",
       "    </tr>\n",
       "    <tr>\n",
       "      <th>364</th>\n",
       "      <td>2022-03</td>\n",
       "      <td>20.556210</td>\n",
       "    </tr>\n",
       "    <tr>\n",
       "      <th>365</th>\n",
       "      <td>2022-04</td>\n",
       "      <td>20.108805</td>\n",
       "    </tr>\n",
       "    <tr>\n",
       "      <th>366</th>\n",
       "      <td>2022-05</td>\n",
       "      <td>20.030527</td>\n",
       "    </tr>\n",
       "    <tr>\n",
       "      <th>367</th>\n",
       "      <td>2022-06</td>\n",
       "      <td>20.023737</td>\n",
       "    </tr>\n",
       "    <tr>\n",
       "      <th>368</th>\n",
       "      <td>2022-07</td>\n",
       "      <td>20.588144</td>\n",
       "    </tr>\n",
       "  </tbody>\n",
       "</table>\n",
       "<p>369 rows × 2 columns</p>\n",
       "</div>"
      ],
      "text/plain": [
       "       fecha       dato\n",
       "0    1991-11   3.068377\n",
       "1    1991-12   3.070921\n",
       "2    1992-01   3.067723\n",
       "3    1992-02   3.062905\n",
       "4    1992-03   3.066768\n",
       "..       ...        ...\n",
       "364  2022-03  20.556210\n",
       "365  2022-04  20.108805\n",
       "366  2022-05  20.030527\n",
       "367  2022-06  20.023737\n",
       "368  2022-07  20.588144\n",
       "\n",
       "[369 rows x 2 columns]"
      ]
     },
     "execution_count": 13,
     "metadata": {},
     "output_type": "execute_result"
    }
   ],
   "source": [
    "means_month = df_tiposCambio.groupby(pd.PeriodIndex(df_tiposCambio[\"fecha\"], freq=\"M\"))[\"dato\"].mean().reset_index()\n",
    "means_month"
   ]
  },
  {
   "cell_type": "code",
   "execution_count": 14,
   "metadata": {},
   "outputs": [],
   "source": [
    "df_b3 = df_b2.copy()    #########"
   ]
  },
  {
   "cell_type": "code",
   "execution_count": 15,
   "metadata": {},
   "outputs": [],
   "source": [
    "for i, row in means_month.iterrows():\n",
    "    df_b3.loc[(pd.DatetimeIndex(df_b3[\"Mes Operacion\"]).month == means_month.loc[i, \"fecha\"].month) & (pd.DatetimeIndex(df_b3[\"Mes Operacion\"]).year == means_month.loc[i, \"fecha\"].year) & (df_b3[\"Moneda\"] == \"USD\"), [\"Monto Transaccion\",\"Monto Contracargo (Venta)\"]] = \\\n",
    "        df_b3[(pd.DatetimeIndex(df_b3[\"Mes Operacion\"]).month == means_month.loc[i, \"fecha\"].month) & (pd.DatetimeIndex(df_b3[\"Mes Operacion\"]).year == means_month.loc[i, \"fecha\"].year)& (df_b3[\"Moneda\"] == \"USD\")][[\"Monto Transaccion\",\"Monto Contracargo (Venta)\"]]\\\n",
    "            .apply(lambda x: x*row[\"dato\"])"
   ]
  },
  {
   "cell_type": "code",
   "execution_count": 16,
   "metadata": {},
   "outputs": [
    {
     "name": "stdout",
     "output_type": "stream",
     "text": [
      "Mes Operacion\n",
      "2021-07-01    966\n",
      "2021-08-01    918\n",
      "Name: Comercio Id, dtype: int64\n"
     ]
    }
   ],
   "source": [
    "print(df_b3.groupby(\"Mes Operacion\")[\"Comercio Id\"].count())"
   ]
  },
  {
   "cell_type": "code",
   "execution_count": 17,
   "metadata": {},
   "outputs": [
    {
     "name": "stdout",
     "output_type": "stream",
     "text": [
      "       fecha       dato\n",
      "357  2021-08  20.076136\n"
     ]
    }
   ],
   "source": [
    "print(means_month[means_month[\"fecha\"] == \"2021-08\"])"
   ]
  },
  {
   "cell_type": "code",
   "execution_count": 18,
   "metadata": {},
   "outputs": [
    {
     "name": "stdout",
     "output_type": "stream",
     "text": [
      "      Comercio Id Mes Operacion       Estado Moneda  # Transacciones  \\\n",
      "1874          258    2021-08-01  IN_PROGRESS    MXN              895   \n",
      "1875          258    2021-08-01       FAILED    MXN               49   \n",
      "1879          259    2021-08-01       FAILED    MXN             1636   \n",
      "1880          259    2021-08-01    COMPLETED    MXN              826   \n",
      "1881          259    2021-08-01    CANCELLED    MXN                1   \n",
      "\n",
      "      Monto Transaccion  Monto Contracargo (Venta)  \n",
      "1874          332925.20                        0.0  \n",
      "1875            9302.00                        0.0  \n",
      "1879         1966402.39                        0.0  \n",
      "1880          991902.66                     9154.0  \n",
      "1881          217369.92                        0.0  \n",
      "_______\n",
      "      Comercio Id Mes Operacion       Estado Moneda  # Transacciones  \\\n",
      "1874          258    2021-08-01  IN_PROGRESS    MXN              895   \n",
      "1875          258    2021-08-01       FAILED    MXN               49   \n",
      "1879          259    2021-08-01       FAILED    MXN             1636   \n",
      "1880          259    2021-08-01    COMPLETED    MXN              826   \n",
      "1881          259    2021-08-01    CANCELLED    MXN                1   \n",
      "\n",
      "      Monto Transaccion  Monto Contracargo (Venta)  \n",
      "1874          332925.20                        0.0  \n",
      "1875            9302.00                        0.0  \n",
      "1879         1966402.39                        0.0  \n",
      "1880          991902.66                     9154.0  \n",
      "1881          217369.92                        0.0  \n"
     ]
    }
   ],
   "source": [
    "print(df_b2[(df_b2[\"Mes Operacion\"] == \"2021-08-01\") & (df_b2[\"Moneda\"] == \"MXN\")].tail())\n",
    "print(\"_\"*7)\n",
    "print(df_b3[(df_b3[\"Mes Operacion\"] == \"2021-08-01\") & (df_b2[\"Moneda\"] == \"MXN\")].tail())"
   ]
  },
  {
   "cell_type": "code",
   "execution_count": 19,
   "metadata": {},
   "outputs": [
    {
     "name": "stdout",
     "output_type": "stream",
     "text": [
      "      Comercio Id Mes Operacion          Estado Moneda  # Transacciones  \\\n",
      "1425          190    2021-08-01       COMPLETED    USD             2020   \n",
      "1426          190    2021-08-01  CHARGE_PENDING    USD              502   \n",
      "1427          190    2021-08-01          FAILED    USD              407   \n",
      "1428          190    2021-08-01           ERROR    USD               17   \n",
      "1429          190    2021-08-01     IN_PROGRESS    USD                1   \n",
      "\n",
      "      Monto Transaccion  Monto Contracargo (Venta)  \n",
      "1425          776782.78                        0.0  \n",
      "1426          330535.27                        0.0  \n",
      "1427          290914.30                        0.0  \n",
      "1428           17388.65                        0.0  \n",
      "1429              65.00                        0.0  \n",
      "_______\n",
      "      Comercio Id Mes Operacion          Estado Moneda  # Transacciones  \\\n",
      "1425          190    2021-08-01       COMPLETED    USD             2020   \n",
      "1426          190    2021-08-01  CHARGE_PENDING    USD              502   \n",
      "1427          190    2021-08-01          FAILED    USD              407   \n",
      "1428          190    2021-08-01           ERROR    USD               17   \n",
      "1429          190    2021-08-01     IN_PROGRESS    USD                1   \n",
      "\n",
      "      Monto Transaccion  Monto Contracargo (Venta)  \n",
      "1425       1.559480e+07                        0.0  \n",
      "1426       6.635871e+06                        0.0  \n",
      "1427       5.840435e+06                        0.0  \n",
      "1428       3.490969e+05                        0.0  \n",
      "1429       1.304949e+03                        0.0  \n"
     ]
    }
   ],
   "source": [
    "print(df_b2[(df_b2[\"Mes Operacion\"] == \"2021-08-01\") & (df_b2[\"Moneda\"] == \"USD\")].tail())\n",
    "print(\"_\"*7)\n",
    "print(df_b3[(df_b3[\"Mes Operacion\"] == \"2021-08-01\") & (df_b3[\"Moneda\"] == \"USD\")].tail())"
   ]
  },
  {
   "cell_type": "code",
   "execution_count": 20,
   "metadata": {},
   "outputs": [],
   "source": [
    "df_b3.loc[df_b3[\"Moneda\"] == \"USD\", [\"Moneda\"]] = \"MXN\""
   ]
  },
  {
   "cell_type": "code",
   "execution_count": 21,
   "metadata": {},
   "outputs": [
    {
     "name": "stdout",
     "output_type": "stream",
     "text": [
      "Moneda\n",
      "MXN    1855\n",
      "USD      29\n",
      "Name: Comercio Id, dtype: int64 \n",
      "\n",
      "Moneda\n",
      "MXN    1884\n",
      "Name: Comercio Id, dtype: int64\n"
     ]
    }
   ],
   "source": [
    "print(df_b2.groupby(\"Moneda\").count()[\"Comercio Id\"],\"\\n\")\n",
    "print(df_b3.groupby(\"Moneda\").count()[\"Comercio Id\"])"
   ]
  },
  {
   "cell_type": "markdown",
   "metadata": {},
   "source": [
    "**d)\t¿Cuál es el monto total de transacciones completadas?**"
   ]
  },
  {
   "cell_type": "code",
   "execution_count": 22,
   "metadata": {},
   "outputs": [
    {
     "name": "stdout",
     "output_type": "stream",
     "text": [
      "Monto total de transacciones completadas:\n",
      "12989560769.614422\n",
      "\n"
     ]
    }
   ],
   "source": [
    "#---d\n",
    "print(\"Monto total de transacciones completadas:\\n{}\\n\".format(\n",
    "df_b3[df_b3[\"Estado\"] == \"COMPLETED\"][\"Monto Transaccion\"].sum()\n",
    "))"
   ]
  },
  {
   "cell_type": "markdown",
   "metadata": {},
   "source": [
    "**e)\t¿Cuál es el monto total de transacciones fallidas?**"
   ]
  },
  {
   "cell_type": "code",
   "execution_count": 23,
   "metadata": {},
   "outputs": [
    {
     "name": "stdout",
     "output_type": "stream",
     "text": [
      "Monto total de transacciones fallidas:\n",
      "9193057072.705488\n",
      "\n"
     ]
    }
   ],
   "source": [
    "#---e\n",
    "print(\"Monto total de transacciones fallidas:\\n{}\\n\".format(\n",
    "df_b3[df_b3[\"Estado\"] == \"FAILED\"][\"Monto Transaccion\"].sum()\n",
    "))"
   ]
  },
  {
   "cell_type": "markdown",
   "metadata": {},
   "source": [
    "**f)\t¿Existe algún comercio que nunca haya completado transacciones?**"
   ]
  },
  {
   "cell_type": "code",
   "execution_count": 24,
   "metadata": {},
   "outputs": [
    {
     "data": {
      "text/html": [
       "<div>\n",
       "<style scoped>\n",
       "    .dataframe tbody tr th:only-of-type {\n",
       "        vertical-align: middle;\n",
       "    }\n",
       "\n",
       "    .dataframe tbody tr th {\n",
       "        vertical-align: top;\n",
       "    }\n",
       "\n",
       "    .dataframe thead th {\n",
       "        text-align: right;\n",
       "    }\n",
       "</style>\n",
       "<table border=\"1\" class=\"dataframe\">\n",
       "  <thead>\n",
       "    <tr style=\"text-align: right;\">\n",
       "      <th>Estado</th>\n",
       "      <th>COMPLETED</th>\n",
       "    </tr>\n",
       "    <tr>\n",
       "      <th>Comercio Id</th>\n",
       "      <th></th>\n",
       "    </tr>\n",
       "  </thead>\n",
       "  <tbody>\n",
       "    <tr>\n",
       "      <th>100</th>\n",
       "      <td>0.0</td>\n",
       "    </tr>\n",
       "    <tr>\n",
       "      <th>113</th>\n",
       "      <td>0.0</td>\n",
       "    </tr>\n",
       "    <tr>\n",
       "      <th>134</th>\n",
       "      <td>0.0</td>\n",
       "    </tr>\n",
       "  </tbody>\n",
       "</table>\n",
       "</div>"
      ],
      "text/plain": [
       "Estado       COMPLETED\n",
       "Comercio Id           \n",
       "100                0.0\n",
       "113                0.0\n",
       "134                0.0"
      ]
     },
     "execution_count": 24,
     "metadata": {},
     "output_type": "execute_result"
    }
   ],
   "source": [
    "#---f\n",
    "pvT1 = df_b3.pivot_table(index=\"Comercio Id\", columns=\"Estado\", values=\"# Transacciones\", aggfunc=\"sum\").fillna(0)\n",
    "pvT1[pvT1[\"COMPLETED\"]==0][[\"COMPLETED\"]]"
   ]
  },
  {
   "cell_type": "markdown",
   "metadata": {},
   "source": [
    "**g)\tCalcule el porcentaje de transacciones completadas en cada uno de los comercios (en el total del periodo estudiado).**"
   ]
  },
  {
   "cell_type": "code",
   "execution_count": 25,
   "metadata": {},
   "outputs": [
    {
     "data": {
      "text/html": [
       "<div>\n",
       "<style scoped>\n",
       "    .dataframe tbody tr th:only-of-type {\n",
       "        vertical-align: middle;\n",
       "    }\n",
       "\n",
       "    .dataframe tbody tr th {\n",
       "        vertical-align: top;\n",
       "    }\n",
       "\n",
       "    .dataframe thead th {\n",
       "        text-align: right;\n",
       "    }\n",
       "</style>\n",
       "<table border=\"1\" class=\"dataframe\">\n",
       "  <thead>\n",
       "    <tr style=\"text-align: right;\">\n",
       "      <th>Estado</th>\n",
       "      <th>COMPLETED PERCENTAGE FOR ALL PERIOD</th>\n",
       "    </tr>\n",
       "    <tr>\n",
       "      <th>Comercio Id</th>\n",
       "      <th></th>\n",
       "    </tr>\n",
       "  </thead>\n",
       "  <tbody>\n",
       "    <tr>\n",
       "      <th>0</th>\n",
       "      <td>0.337588</td>\n",
       "    </tr>\n",
       "    <tr>\n",
       "      <th>1</th>\n",
       "      <td>0.438457</td>\n",
       "    </tr>\n",
       "    <tr>\n",
       "      <th>2</th>\n",
       "      <td>10.252216</td>\n",
       "    </tr>\n",
       "    <tr>\n",
       "      <th>3</th>\n",
       "      <td>42.685855</td>\n",
       "    </tr>\n",
       "    <tr>\n",
       "      <th>4</th>\n",
       "      <td>67.148418</td>\n",
       "    </tr>\n",
       "    <tr>\n",
       "      <th>...</th>\n",
       "      <td>...</td>\n",
       "    </tr>\n",
       "    <tr>\n",
       "      <th>256</th>\n",
       "      <td>64.242088</td>\n",
       "    </tr>\n",
       "    <tr>\n",
       "      <th>257</th>\n",
       "      <td>99.074593</td>\n",
       "    </tr>\n",
       "    <tr>\n",
       "      <th>258</th>\n",
       "      <td>48.766657</td>\n",
       "    </tr>\n",
       "    <tr>\n",
       "      <th>259</th>\n",
       "      <td>35.284091</td>\n",
       "    </tr>\n",
       "    <tr>\n",
       "      <th>260</th>\n",
       "      <td>99.593023</td>\n",
       "    </tr>\n",
       "  </tbody>\n",
       "</table>\n",
       "<p>251 rows × 1 columns</p>\n",
       "</div>"
      ],
      "text/plain": [
       "Estado       COMPLETED PERCENTAGE FOR ALL PERIOD\n",
       "Comercio Id                                     \n",
       "0                                       0.337588\n",
       "1                                       0.438457\n",
       "2                                      10.252216\n",
       "3                                      42.685855\n",
       "4                                      67.148418\n",
       "...                                          ...\n",
       "256                                    64.242088\n",
       "257                                    99.074593\n",
       "258                                    48.766657\n",
       "259                                    35.284091\n",
       "260                                    99.593023\n",
       "\n",
       "[251 rows x 1 columns]"
      ]
     },
     "execution_count": 25,
     "metadata": {},
     "output_type": "execute_result"
    }
   ],
   "source": [
    "#---g\n",
    "pvT1.div(pvT1.sum(axis=1), axis=0).mul(100)[[\"COMPLETED\"]].rename(columns={\"COMPLETED\":\"COMPLETED PERCENTAGE FOR ALL PERIOD\"})"
   ]
  },
  {
   "cell_type": "markdown",
   "metadata": {},
   "source": [
    "**h)\tCalcule el porcentaje de transacciones completadas mensuales de cada uno de los comercios y posterior a ello calcule el promedio.**"
   ]
  },
  {
   "cell_type": "code",
   "execution_count": 26,
   "metadata": {},
   "outputs": [
    {
     "data": {
      "text/html": [
       "<div>\n",
       "<style scoped>\n",
       "    .dataframe tbody tr th:only-of-type {\n",
       "        vertical-align: middle;\n",
       "    }\n",
       "\n",
       "    .dataframe tbody tr th {\n",
       "        vertical-align: top;\n",
       "    }\n",
       "\n",
       "    .dataframe thead th {\n",
       "        text-align: right;\n",
       "    }\n",
       "</style>\n",
       "<table border=\"1\" class=\"dataframe\">\n",
       "  <thead>\n",
       "    <tr style=\"text-align: right;\">\n",
       "      <th></th>\n",
       "      <th>Estado</th>\n",
       "      <th>COMPLETED PERCENTAGE BY MONTH</th>\n",
       "    </tr>\n",
       "    <tr>\n",
       "      <th>Comercio Id</th>\n",
       "      <th>Mes Operacion</th>\n",
       "      <th></th>\n",
       "    </tr>\n",
       "  </thead>\n",
       "  <tbody>\n",
       "    <tr>\n",
       "      <th rowspan=\"2\" valign=\"top\">0</th>\n",
       "      <th>2021-07-01</th>\n",
       "      <td>0.334464</td>\n",
       "    </tr>\n",
       "    <tr>\n",
       "      <th>2021-08-01</th>\n",
       "      <td>0.340955</td>\n",
       "    </tr>\n",
       "    <tr>\n",
       "      <th rowspan=\"2\" valign=\"top\">1</th>\n",
       "      <th>2021-07-01</th>\n",
       "      <td>0.466705</td>\n",
       "    </tr>\n",
       "    <tr>\n",
       "      <th>2021-08-01</th>\n",
       "      <td>0.414036</td>\n",
       "    </tr>\n",
       "    <tr>\n",
       "      <th>2</th>\n",
       "      <th>2021-07-01</th>\n",
       "      <td>9.846414</td>\n",
       "    </tr>\n",
       "    <tr>\n",
       "      <th>...</th>\n",
       "      <th>...</th>\n",
       "      <td>...</td>\n",
       "    </tr>\n",
       "    <tr>\n",
       "      <th rowspan=\"2\" valign=\"top\">258</th>\n",
       "      <th>2021-07-01</th>\n",
       "      <td>47.980711</td>\n",
       "    </tr>\n",
       "    <tr>\n",
       "      <th>2021-08-01</th>\n",
       "      <td>49.464668</td>\n",
       "    </tr>\n",
       "    <tr>\n",
       "      <th rowspan=\"2\" valign=\"top\">259</th>\n",
       "      <th>2021-07-01</th>\n",
       "      <td>39.356670</td>\n",
       "    </tr>\n",
       "    <tr>\n",
       "      <th>2021-08-01</th>\n",
       "      <td>33.536338</td>\n",
       "    </tr>\n",
       "    <tr>\n",
       "      <th>260</th>\n",
       "      <th>2021-07-01</th>\n",
       "      <td>99.593023</td>\n",
       "    </tr>\n",
       "  </tbody>\n",
       "</table>\n",
       "<p>501 rows × 1 columns</p>\n",
       "</div>"
      ],
      "text/plain": [
       "Estado                     COMPLETED PERCENTAGE BY MONTH\n",
       "Comercio Id Mes Operacion                               \n",
       "0           2021-07-01                          0.334464\n",
       "            2021-08-01                          0.340955\n",
       "1           2021-07-01                          0.466705\n",
       "            2021-08-01                          0.414036\n",
       "2           2021-07-01                          9.846414\n",
       "...                                                  ...\n",
       "258         2021-07-01                         47.980711\n",
       "            2021-08-01                         49.464668\n",
       "259         2021-07-01                         39.356670\n",
       "            2021-08-01                         33.536338\n",
       "260         2021-07-01                         99.593023\n",
       "\n",
       "[501 rows x 1 columns]"
      ]
     },
     "execution_count": 26,
     "metadata": {},
     "output_type": "execute_result"
    }
   ],
   "source": [
    "#---\n",
    "pvT2 = df_b3.pivot_table(index=[\"Comercio Id\", \"Mes Operacion\"], columns=\"Estado\", values=\"# Transacciones\", aggfunc=\"sum\").fillna(0)\n",
    "pvT2.div(pvT2.sum(axis=1), axis=0).mul(100)[[\"COMPLETED\"]].rename(columns={\"COMPLETED\":\"COMPLETED PERCENTAGE BY MONTH\"})"
   ]
  },
  {
   "cell_type": "code",
   "execution_count": 27,
   "metadata": {},
   "outputs": [
    {
     "data": {
      "text/html": [
       "<div>\n",
       "<style scoped>\n",
       "    .dataframe tbody tr th:only-of-type {\n",
       "        vertical-align: middle;\n",
       "    }\n",
       "\n",
       "    .dataframe tbody tr th {\n",
       "        vertical-align: top;\n",
       "    }\n",
       "\n",
       "    .dataframe thead th {\n",
       "        text-align: right;\n",
       "    }\n",
       "</style>\n",
       "<table border=\"1\" class=\"dataframe\">\n",
       "  <thead>\n",
       "    <tr style=\"text-align: right;\">\n",
       "      <th>Estado</th>\n",
       "      <th>MEAN PERCENTAGE BY Comercio Id</th>\n",
       "    </tr>\n",
       "    <tr>\n",
       "      <th>Comercio Id</th>\n",
       "      <th></th>\n",
       "    </tr>\n",
       "  </thead>\n",
       "  <tbody>\n",
       "    <tr>\n",
       "      <th>0</th>\n",
       "      <td>0.337710</td>\n",
       "    </tr>\n",
       "    <tr>\n",
       "      <th>1</th>\n",
       "      <td>0.440371</td>\n",
       "    </tr>\n",
       "    <tr>\n",
       "      <th>2</th>\n",
       "      <td>10.299806</td>\n",
       "    </tr>\n",
       "    <tr>\n",
       "      <th>3</th>\n",
       "      <td>42.679549</td>\n",
       "    </tr>\n",
       "    <tr>\n",
       "      <th>4</th>\n",
       "      <td>67.110779</td>\n",
       "    </tr>\n",
       "    <tr>\n",
       "      <th>...</th>\n",
       "      <td>...</td>\n",
       "    </tr>\n",
       "    <tr>\n",
       "      <th>256</th>\n",
       "      <td>64.253740</td>\n",
       "    </tr>\n",
       "    <tr>\n",
       "      <th>257</th>\n",
       "      <td>99.068639</td>\n",
       "    </tr>\n",
       "    <tr>\n",
       "      <th>258</th>\n",
       "      <td>48.722690</td>\n",
       "    </tr>\n",
       "    <tr>\n",
       "      <th>259</th>\n",
       "      <td>36.446504</td>\n",
       "    </tr>\n",
       "    <tr>\n",
       "      <th>260</th>\n",
       "      <td>99.593023</td>\n",
       "    </tr>\n",
       "  </tbody>\n",
       "</table>\n",
       "<p>251 rows × 1 columns</p>\n",
       "</div>"
      ],
      "text/plain": [
       "Estado       MEAN PERCENTAGE BY Comercio Id\n",
       "Comercio Id                                \n",
       "0                                  0.337710\n",
       "1                                  0.440371\n",
       "2                                 10.299806\n",
       "3                                 42.679549\n",
       "4                                 67.110779\n",
       "...                                     ...\n",
       "256                               64.253740\n",
       "257                               99.068639\n",
       "258                               48.722690\n",
       "259                               36.446504\n",
       "260                               99.593023\n",
       "\n",
       "[251 rows x 1 columns]"
      ]
     },
     "execution_count": 27,
     "metadata": {},
     "output_type": "execute_result"
    }
   ],
   "source": [
    "pvT2.div(pvT2.sum(axis=1), axis=0).mul(100)[[\"COMPLETED\"]].groupby(\"Comercio Id\").mean()\\\n",
    ".rename(columns={\"COMPLETED\":\"MEAN PERCENTAGE BY Comercio Id\"})"
   ]
  },
  {
   "cell_type": "code",
   "execution_count": 28,
   "metadata": {},
   "outputs": [
    {
     "data": {
      "text/html": [
       "<div>\n",
       "<style scoped>\n",
       "    .dataframe tbody tr th:only-of-type {\n",
       "        vertical-align: middle;\n",
       "    }\n",
       "\n",
       "    .dataframe tbody tr th {\n",
       "        vertical-align: top;\n",
       "    }\n",
       "\n",
       "    .dataframe thead th {\n",
       "        text-align: right;\n",
       "    }\n",
       "</style>\n",
       "<table border=\"1\" class=\"dataframe\">\n",
       "  <thead>\n",
       "    <tr style=\"text-align: right;\">\n",
       "      <th>Estado</th>\n",
       "      <th>COMPLETED</th>\n",
       "    </tr>\n",
       "    <tr>\n",
       "      <th>Comercio Id</th>\n",
       "      <th></th>\n",
       "    </tr>\n",
       "  </thead>\n",
       "  <tbody>\n",
       "    <tr>\n",
       "      <th>0</th>\n",
       "      <td>12029.5</td>\n",
       "    </tr>\n",
       "    <tr>\n",
       "      <th>1</th>\n",
       "      <td>8325.5</td>\n",
       "    </tr>\n",
       "    <tr>\n",
       "      <th>2</th>\n",
       "      <td>179735.5</td>\n",
       "    </tr>\n",
       "    <tr>\n",
       "      <th>3</th>\n",
       "      <td>629634.5</td>\n",
       "    </tr>\n",
       "    <tr>\n",
       "      <th>4</th>\n",
       "      <td>828614.5</td>\n",
       "    </tr>\n",
       "    <tr>\n",
       "      <th>...</th>\n",
       "      <td>...</td>\n",
       "    </tr>\n",
       "    <tr>\n",
       "      <th>256</th>\n",
       "      <td>1157.0</td>\n",
       "    </tr>\n",
       "    <tr>\n",
       "      <th>257</th>\n",
       "      <td>1766.5</td>\n",
       "    </tr>\n",
       "    <tr>\n",
       "      <th>258</th>\n",
       "      <td>860.0</td>\n",
       "    </tr>\n",
       "    <tr>\n",
       "      <th>259</th>\n",
       "      <td>621.0</td>\n",
       "    </tr>\n",
       "    <tr>\n",
       "      <th>260</th>\n",
       "      <td>1713.0</td>\n",
       "    </tr>\n",
       "  </tbody>\n",
       "</table>\n",
       "<p>251 rows × 1 columns</p>\n",
       "</div>"
      ],
      "text/plain": [
       "Estado       COMPLETED\n",
       "Comercio Id           \n",
       "0              12029.5\n",
       "1               8325.5\n",
       "2             179735.5\n",
       "3             629634.5\n",
       "4             828614.5\n",
       "...                ...\n",
       "256             1157.0\n",
       "257             1766.5\n",
       "258              860.0\n",
       "259              621.0\n",
       "260             1713.0\n",
       "\n",
       "[251 rows x 1 columns]"
      ]
     },
     "execution_count": 28,
     "metadata": {},
     "output_type": "execute_result"
    }
   ],
   "source": [
    "pvT2[[\"COMPLETED\"]].groupby(\"Comercio Id\").mean()"
   ]
  },
  {
   "cell_type": "markdown",
   "metadata": {},
   "source": [
    "**i)\tPara cada uno de los meses estudiados y cada uno de los distintos Estados construya una bandera de cuando el comercio presenta operaciones en cada tipo de estado. (Utilice 0 para representar que no cuenta con ese estado y 1 para indicar que sí cuenta con él en el periodo de tiempo observado; esto se conoce como variables dummy)**"
   ]
  },
  {
   "cell_type": "code",
   "execution_count": 29,
   "metadata": {},
   "outputs": [
    {
     "data": {
      "text/html": [
       "<div>\n",
       "<style scoped>\n",
       "    .dataframe tbody tr th:only-of-type {\n",
       "        vertical-align: middle;\n",
       "    }\n",
       "\n",
       "    .dataframe tbody tr th {\n",
       "        vertical-align: top;\n",
       "    }\n",
       "\n",
       "    .dataframe thead th {\n",
       "        text-align: right;\n",
       "    }\n",
       "</style>\n",
       "<table border=\"1\" class=\"dataframe\">\n",
       "  <thead>\n",
       "    <tr style=\"text-align: right;\">\n",
       "      <th></th>\n",
       "      <th>Estado</th>\n",
       "      <th>CANCELLED</th>\n",
       "      <th>CHARGE_PENDING</th>\n",
       "      <th>COMPLETED</th>\n",
       "      <th>ERROR</th>\n",
       "      <th>EXPIRED</th>\n",
       "      <th>FAILED</th>\n",
       "      <th>IN_PROGRESS</th>\n",
       "    </tr>\n",
       "    <tr>\n",
       "      <th>Comercio Id</th>\n",
       "      <th>Mes Operacion</th>\n",
       "      <th></th>\n",
       "      <th></th>\n",
       "      <th></th>\n",
       "      <th></th>\n",
       "      <th></th>\n",
       "      <th></th>\n",
       "      <th></th>\n",
       "    </tr>\n",
       "  </thead>\n",
       "  <tbody>\n",
       "    <tr>\n",
       "      <th rowspan=\"2\" valign=\"top\">0</th>\n",
       "      <th>2021-07-01</th>\n",
       "      <td>0</td>\n",
       "      <td>0</td>\n",
       "      <td>1</td>\n",
       "      <td>0</td>\n",
       "      <td>0</td>\n",
       "      <td>1</td>\n",
       "      <td>1</td>\n",
       "    </tr>\n",
       "    <tr>\n",
       "      <th>2021-08-01</th>\n",
       "      <td>1</td>\n",
       "      <td>0</td>\n",
       "      <td>1</td>\n",
       "      <td>0</td>\n",
       "      <td>0</td>\n",
       "      <td>1</td>\n",
       "      <td>1</td>\n",
       "    </tr>\n",
       "    <tr>\n",
       "      <th rowspan=\"2\" valign=\"top\">1</th>\n",
       "      <th>2021-07-01</th>\n",
       "      <td>0</td>\n",
       "      <td>0</td>\n",
       "      <td>1</td>\n",
       "      <td>0</td>\n",
       "      <td>0</td>\n",
       "      <td>1</td>\n",
       "      <td>1</td>\n",
       "    </tr>\n",
       "    <tr>\n",
       "      <th>2021-08-01</th>\n",
       "      <td>0</td>\n",
       "      <td>0</td>\n",
       "      <td>1</td>\n",
       "      <td>0</td>\n",
       "      <td>0</td>\n",
       "      <td>1</td>\n",
       "      <td>1</td>\n",
       "    </tr>\n",
       "    <tr>\n",
       "      <th>2</th>\n",
       "      <th>2021-07-01</th>\n",
       "      <td>0</td>\n",
       "      <td>0</td>\n",
       "      <td>1</td>\n",
       "      <td>1</td>\n",
       "      <td>0</td>\n",
       "      <td>1</td>\n",
       "      <td>1</td>\n",
       "    </tr>\n",
       "    <tr>\n",
       "      <th>...</th>\n",
       "      <th>...</th>\n",
       "      <td>...</td>\n",
       "      <td>...</td>\n",
       "      <td>...</td>\n",
       "      <td>...</td>\n",
       "      <td>...</td>\n",
       "      <td>...</td>\n",
       "      <td>...</td>\n",
       "    </tr>\n",
       "    <tr>\n",
       "      <th rowspan=\"2\" valign=\"top\">258</th>\n",
       "      <th>2021-07-01</th>\n",
       "      <td>0</td>\n",
       "      <td>0</td>\n",
       "      <td>1</td>\n",
       "      <td>0</td>\n",
       "      <td>0</td>\n",
       "      <td>1</td>\n",
       "      <td>1</td>\n",
       "    </tr>\n",
       "    <tr>\n",
       "      <th>2021-08-01</th>\n",
       "      <td>0</td>\n",
       "      <td>0</td>\n",
       "      <td>1</td>\n",
       "      <td>0</td>\n",
       "      <td>0</td>\n",
       "      <td>1</td>\n",
       "      <td>1</td>\n",
       "    </tr>\n",
       "    <tr>\n",
       "      <th rowspan=\"2\" valign=\"top\">259</th>\n",
       "      <th>2021-07-01</th>\n",
       "      <td>0</td>\n",
       "      <td>0</td>\n",
       "      <td>1</td>\n",
       "      <td>1</td>\n",
       "      <td>0</td>\n",
       "      <td>1</td>\n",
       "      <td>0</td>\n",
       "    </tr>\n",
       "    <tr>\n",
       "      <th>2021-08-01</th>\n",
       "      <td>1</td>\n",
       "      <td>0</td>\n",
       "      <td>1</td>\n",
       "      <td>0</td>\n",
       "      <td>0</td>\n",
       "      <td>1</td>\n",
       "      <td>0</td>\n",
       "    </tr>\n",
       "    <tr>\n",
       "      <th>260</th>\n",
       "      <th>2021-07-01</th>\n",
       "      <td>0</td>\n",
       "      <td>0</td>\n",
       "      <td>1</td>\n",
       "      <td>0</td>\n",
       "      <td>0</td>\n",
       "      <td>1</td>\n",
       "      <td>0</td>\n",
       "    </tr>\n",
       "  </tbody>\n",
       "</table>\n",
       "<p>501 rows × 7 columns</p>\n",
       "</div>"
      ],
      "text/plain": [
       "Estado                     CANCELLED  CHARGE_PENDING  COMPLETED  ERROR  \\\n",
       "Comercio Id Mes Operacion                                                \n",
       "0           2021-07-01             0               0          1      0   \n",
       "            2021-08-01             1               0          1      0   \n",
       "1           2021-07-01             0               0          1      0   \n",
       "            2021-08-01             0               0          1      0   \n",
       "2           2021-07-01             0               0          1      1   \n",
       "...                              ...             ...        ...    ...   \n",
       "258         2021-07-01             0               0          1      0   \n",
       "            2021-08-01             0               0          1      0   \n",
       "259         2021-07-01             0               0          1      1   \n",
       "            2021-08-01             1               0          1      0   \n",
       "260         2021-07-01             0               0          1      0   \n",
       "\n",
       "Estado                     EXPIRED  FAILED  IN_PROGRESS  \n",
       "Comercio Id Mes Operacion                                \n",
       "0           2021-07-01           0       1            1  \n",
       "            2021-08-01           0       1            1  \n",
       "1           2021-07-01           0       1            1  \n",
       "            2021-08-01           0       1            1  \n",
       "2           2021-07-01           0       1            1  \n",
       "...                            ...     ...          ...  \n",
       "258         2021-07-01           0       1            1  \n",
       "            2021-08-01           0       1            1  \n",
       "259         2021-07-01           0       1            0  \n",
       "            2021-08-01           0       1            0  \n",
       "260         2021-07-01           0       1            0  \n",
       "\n",
       "[501 rows x 7 columns]"
      ]
     },
     "execution_count": 29,
     "metadata": {},
     "output_type": "execute_result"
    }
   ],
   "source": [
    "df_b3.pivot_table(index=[\"Comercio Id\", \"Mes Operacion\"], columns=\"Estado\", values=\"Moneda\", aggfunc=\"count\").fillna(0).astype(int)"
   ]
  },
  {
   "cell_type": "markdown",
   "metadata": {},
   "source": [
    "**j)\tSi tiene algunas observaciones anótelas a modo de conclusiones en el notebook.**"
   ]
  },
  {
   "cell_type": "markdown",
   "metadata": {},
   "source": [
    "Una observación: Si se esta utilizando VSCode en el Restricted Mode, puede que no se lleguen a ver algunos resultados, para que aparezcan los resultados, solo se debe de salir del Restricted Mode confiando en la ventana. Esto solo sucede en VSCode, en el entorno web no."
   ]
  }
 ],
 "metadata": {
  "kernelspec": {
   "display_name": "Python 3.9.12 64-bit",
   "language": "python",
   "name": "python3"
  },
  "language_info": {
   "codemirror_mode": {
    "name": "ipython",
    "version": 3
   },
   "file_extension": ".py",
   "mimetype": "text/x-python",
   "name": "python",
   "nbconvert_exporter": "python",
   "pygments_lexer": "ipython3",
   "version": "3.9.12"
  },
  "vscode": {
   "interpreter": {
    "hash": "749407a4a7074d7fc0c06d95b19fd92c17e0e1df4fb359ac4f6fed53f9bd884e"
   }
  }
 },
 "nbformat": 4,
 "nbformat_minor": 2
}
