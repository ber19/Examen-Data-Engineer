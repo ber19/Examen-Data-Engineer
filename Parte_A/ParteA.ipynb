{
 "cells": [
  {
   "cell_type": "code",
   "execution_count": 2,
   "metadata": {},
   "outputs": [],
   "source": [
    "import pandas as pd\n",
    "from os import path\n",
    "import os\n",
    "import copy\n",
    "\n",
    "path_partA = \"C:\\\\Users\\\\bm-\\\\Downloads\\\\Parte A\\\\Parte A\""
   ]
  },
  {
   "cell_type": "markdown",
   "metadata": {},
   "source": [
    "**a)\tSu primera tarea es construir un DataFrame que incluya todos aquellos stocks que se encuentren dentro del listado NASDAQ.txt y que no corresponden al listado excluded_symbols.txt. Dicho DataFrame debe contener una nueva columna llamada “symbol” que contenga el nombre del stock asociado a cada uno de los registros.**"
   ]
  },
  {
   "cell_type": "code",
   "execution_count": 3,
   "metadata": {},
   "outputs": [],
   "source": [
    "#---a\n",
    "path_full_history = path.join(path_partA, \"full_history\")\n",
    "\n",
    "df_nasdaq = pd.read_csv(path.join(path_partA, \"NASDAQ.txt\"), sep=\"\\t\", header=0)\n",
    "df_excluded_sym = pd.read_csv(path.join(path_partA, \"excluded_symbols.txt\"), header=None)\n",
    "\n",
    "stock = []\n",
    "\n",
    "files_stock = []\n",
    "for fname in os.listdir(path_full_history):\n",
    "    if os.path.isfile(os.path.join(path_full_history, fname)): \n",
    "        files_stock.append(os.path.splitext(fname)[0])\n",
    "\n",
    "for i in range(len(df_nasdaq)):\n",
    "    if df_nasdaq.loc[i, \"Symbol\"] in files_stock:\n",
    "        stock.append(df_nasdaq.loc[i, \"Symbol\"])\n",
    "\n",
    "for i in range(len(df_excluded_sym)):\n",
    "    if df_excluded_sym.loc[i, 0] in copy.copy(stock):\n",
    "        stock.remove(df_excluded_sym.loc[i,0])\n",
    "\n",
    "df_a = pd.DataFrame()\n",
    "count = 0\n",
    "for i in range(len(stock)):\n",
    "    df_tmp = pd.read_csv(path.join(path_full_history, stock[i] + \".csv\"), sep=\",\", header=0)\n",
    "    df_tmp[\"symbol\"] = stock[i]\n",
    "    df_a = pd.concat([df_a, df_tmp], ignore_index=True)\n",
    "    count += 1"
   ]
  },
  {
   "cell_type": "code",
   "execution_count": 4,
   "metadata": {},
   "outputs": [
    {
     "name": "stdout",
     "output_type": "stream",
     "text": [
      "3410\n",
      "3410\n",
      "10182789\n"
     ]
    }
   ],
   "source": [
    "print(count)\n",
    "print(len(stock))\n",
    "print(len(df_a))"
   ]
  },
  {
   "cell_type": "code",
   "execution_count": 5,
   "metadata": {},
   "outputs": [
    {
     "name": "stdout",
     "output_type": "stream",
     "text": [
      "         date    volume       open      close       high        low  \\\n",
      "0  2019-04-18  12545500  76.129997  75.980003  76.129997  75.339996   \n",
      "1  2019-04-17   2595100  75.699997  76.110001  76.199997  75.260002   \n",
      "2  2019-04-16   4131200  74.879997      75.18  75.300003  74.470001   \n",
      "3  2019-04-15   7181000  76.599998  74.370003  76.599998  74.260002   \n",
      "4  2019-04-12   4768700  75.599998      76.68  77.029999  75.599998   \n",
      "\n",
      "    adjclose symbol  \n",
      "0  75.980003   AABA  \n",
      "1  76.110001   AABA  \n",
      "2      75.18   AABA  \n",
      "3  74.370003   AABA  \n",
      "4      76.68   AABA   \n",
      "\n",
      "date        object\n",
      "volume      object\n",
      "open        object\n",
      "close       object\n",
      "high        object\n",
      "low         object\n",
      "adjclose    object\n",
      "symbol      object\n",
      "dtype: object\n"
     ]
    }
   ],
   "source": [
    "print(df_a.head(),\"\\n\")\n",
    "print(df_a.dtypes)"
   ]
  },
  {
   "cell_type": "code",
   "execution_count": 6,
   "metadata": {},
   "outputs": [],
   "source": [
    "df_a1 = df_a.copy()    #########"
   ]
  },
  {
   "cell_type": "markdown",
   "metadata": {},
   "source": [
    "**b)\tPosterior a ello realice las transformaciones de datos para que se encuentren en el formato correcto.**"
   ]
  },
  {
   "cell_type": "code",
   "execution_count": 7,
   "metadata": {},
   "outputs": [
    {
     "name": "stdout",
     "output_type": "stream",
     "text": [
      "date        datetime64[ns]\n",
      "volume               int32\n",
      "open               float64\n",
      "close              float64\n",
      "high               float64\n",
      "low                float64\n",
      "adjclose           float64\n",
      "symbol              object\n",
      "dtype: object\n"
     ]
    }
   ],
   "source": [
    "#---b\n",
    "df_a1[\"date\"] = pd.to_datetime(df_a1[\"date\"], infer_datetime_format=True)\n",
    "df_a1[\"volume\"] = df_a1[\"volume\"].astype(int)\n",
    "df_a1[\"open\"] = df_a1[\"open\"].astype(float)\n",
    "df_a1[\"close\"] = df_a1[\"close\"].astype(float)\n",
    "df_a1[\"high\"] = df_a1[\"high\"].astype(float)\n",
    "df_a1[\"low\"] = df_a1[\"low\"].astype(float)\n",
    "df_a1[\"adjclose\"] = df_a1[\"adjclose\"].astype(float)\n",
    "print(df_a1.dtypes)"
   ]
  },
  {
   "cell_type": "markdown",
   "metadata": {},
   "source": [
    "**c)\tMediante la API de Banxico lea el tipo de cambio (Tipo de cambio para solventar obligaciones denominadas en moneda extranjera Fecha de determinación (FIX)).**"
   ]
  },
  {
   "cell_type": "code",
   "execution_count": 8,
   "metadata": {},
   "outputs": [],
   "source": [
    "#---c\n",
    "from urllib.request import urlopen\n",
    "import json\n",
    "\n",
    "with urlopen(\"https://www.banxico.org.mx/SieAPIRest/service/v1/series/SF43718/datos?\"+\n",
    "\"token=1728d77b21b641c1704df48ee020b179966b4100f187bc9c2bc83d0f671ad83b\") as response:\n",
    "    resp = json.loads(response.read().decode(\"utf8\"))\n",
    "\n",
    "data = resp[\"bmx\"][\"series\"][0][\"datos\"]\n",
    "df_tiposCambio = pd.DataFrame(data)\n",
    "df_tiposCambio[\"fecha\"] = pd.to_datetime(df_tiposCambio[\"fecha\"], format=\"%d/%m/%Y\")\n",
    "df_tiposCambio[\"dato\"] = pd.to_numeric(df_tiposCambio[\"dato\"], downcast=\"float\")"
   ]
  },
  {
   "cell_type": "code",
   "execution_count": 9,
   "metadata": {},
   "outputs": [],
   "source": [
    "df_a2 = df_a1.copy()    #########"
   ]
  },
  {
   "cell_type": "markdown",
   "metadata": {},
   "source": [
    "**d)\tTransforme los valores monetarios de dólares a pesos (Ocupe el promedio mensual de los tipos de cambio para ello).**"
   ]
  },
  {
   "cell_type": "code",
   "execution_count": 10,
   "metadata": {},
   "outputs": [],
   "source": [
    "#---d\n",
    "means_month = df_tiposCambio.groupby(pd.PeriodIndex(df_tiposCambio[\"fecha\"], freq=\"M\"))[\"dato\"].mean().reset_index()\n",
    "\n",
    "for i, row in means_month.iterrows():\n",
    "    df_a2.loc[(pd.DatetimeIndex(df_a2[\"date\"]).month == means_month.loc[i, \"fecha\"].month) & (pd.DatetimeIndex(df_a2[\"date\"]).year == means_month.loc[i, \"fecha\"].year), [\"open\",\"close\",\"high\",\"low\",\"adjclose\"]] = \\\n",
    "        df_a2[(pd.DatetimeIndex(df_a2[\"date\"]).month == means_month.loc[i, \"fecha\"].month) & (pd.DatetimeIndex(df_a2[\"date\"]).year == means_month.loc[i, \"fecha\"].year)][[\"open\",\"close\",\"high\",\"low\",\"adjclose\"]]\\\n",
    "            .apply(lambda x: x*row[\"dato\"])"
   ]
  },
  {
   "cell_type": "code",
   "execution_count": 12,
   "metadata": {},
   "outputs": [
    {
     "name": "stdout",
     "output_type": "stream",
     "text": [
      "       fecha       dato\n",
      "0    1991-11   3.068377\n",
      "1    1991-12   3.070921\n",
      "2    1992-01   3.067723\n",
      "3    1992-02   3.062905\n",
      "4    1992-03   3.066768\n",
      "..       ...        ...\n",
      "363  2022-02  20.449520\n",
      "364  2022-03  20.556210\n",
      "365  2022-04  20.108805\n",
      "366  2022-05  20.030527\n",
      "367  2022-06  20.018509\n",
      "\n",
      "[368 rows x 2 columns] \n",
      "\n",
      "date        datetime64[ns]\n",
      "volume               int32\n",
      "open               float64\n",
      "close              float64\n",
      "high               float64\n",
      "low                float64\n",
      "adjclose           float64\n",
      "symbol              object\n",
      "dtype: object\n"
     ]
    }
   ],
   "source": [
    "print(means_month,\"\\n\")\n",
    "print(df_a2.dtypes)"
   ]
  },
  {
   "cell_type": "code",
   "execution_count": 13,
   "metadata": {},
   "outputs": [
    {
     "name": "stdout",
     "output_type": "stream",
     "text": [
      "       fecha      dato\n",
      "328  2019-03  19.24774\n",
      "-------\n",
      "          date   open      close       high        low   adjclose symbol\n",
      "14  2019-03-29  73.18  74.120003  74.190002  72.910004  74.120003   AABA\n",
      "-------\n",
      "         date         open        close         high          low  \\\n",
      "14 2019-03-29  1408.549604  1426.642526  1427.989862  1403.352779   \n",
      "\n",
      "       adjclose symbol  \n",
      "14  1426.642526   AABA  \n"
     ]
    }
   ],
   "source": [
    "print(means_month[means_month[\"fecha\"] == \"2019-03\"])\n",
    "print(\"-\"*7)\n",
    "print(df_a[(pd.DatetimeIndex(df_a[\"date\"]).month == 3) & (pd.DatetimeIndex(df_a[\"date\"]).year == 2019) & (pd.DatetimeIndex(df_a[\"date\"]).day == 29) & (df_a[\"symbol\"]==\"AABA\")][[\"date\",\"open\",\"close\",\"high\",\"low\",\"adjclose\",\"symbol\"]])\n",
    "print(\"-\"*7)\n",
    "print(df_a2[(pd.DatetimeIndex(df_a2[\"date\"]).month == 3) & (pd.DatetimeIndex(df_a2[\"date\"]).year == 2019) & (pd.DatetimeIndex(df_a2[\"date\"]).day == 29) & (df_a2[\"symbol\"]==\"AABA\")][[\"date\",\"open\",\"close\",\"high\",\"low\",\"adjclose\",\"symbol\"]])"
   ]
  },
  {
   "cell_type": "markdown",
   "metadata": {},
   "source": [
    "**e)\tBorre todos aquellos registros anteriores al 01 de enero del año 2019.**"
   ]
  },
  {
   "cell_type": "code",
   "execution_count": 14,
   "metadata": {},
   "outputs": [],
   "source": [
    "df_res = df_a2.drop( df_a2[(pd.DatetimeIndex(df_a2[\"date\"]).year < 2019)].index).reset_index(drop=True) #########"
   ]
  },
  {
   "cell_type": "code",
   "execution_count": 15,
   "metadata": {},
   "outputs": [
    {
     "name": "stdout",
     "output_type": "stream",
     "text": [
      "date        10182789\n",
      "volume      10182789\n",
      "open        10182789\n",
      "close       10182789\n",
      "high        10182789\n",
      "low         10182789\n",
      "adjclose    10182789\n",
      "symbol      10182789\n",
      "dtype: int64\n",
      "date        9943488\n",
      "volume      9943488\n",
      "open        9943488\n",
      "close       9943488\n",
      "high        9943488\n",
      "low         9943488\n",
      "adjclose    9943488\n",
      "symbol      9943488\n",
      "dtype: int64\n",
      "date        239301\n",
      "volume      239301\n",
      "open        239301\n",
      "close       239301\n",
      "high        239301\n",
      "low         239301\n",
      "adjclose    239301\n",
      "symbol      239301\n",
      "dtype: int64\n"
     ]
    }
   ],
   "source": [
    "print(df_a2.count())\n",
    "print(df_a2[(pd.DatetimeIndex(df_a2[\"date\"]).year < 2019)].count())\n",
    "print(df_res.count())"
   ]
  },
  {
   "cell_type": "markdown",
   "metadata": {},
   "source": [
    "**f)\tSi tiene algunas observaciones anótelas a modo de conclusiones en el notebook.**"
   ]
  },
  {
   "cell_type": "markdown",
   "metadata": {},
   "source": [
    "Solo tuve una observación: <br>\n",
    "* En el punto d) <em>Transforme los valores monetarios de dólares a pesos (Ocupe el promedio mensual de los tipos de cambio para ello)</em><br>\n",
    "Tome como valores monetarios los que tenian punto decimal."
   ]
  },
  {
   "cell_type": "markdown",
   "metadata": {},
   "source": [
    "**g)\tExporte el DataFrame resultante en un archivo csv.**"
   ]
  },
  {
   "cell_type": "code",
   "execution_count": 16,
   "metadata": {},
   "outputs": [],
   "source": [
    "df_res.to_csv(path.join(os.path.join(os.environ['USERPROFILE']), 'Desktop', \"parteA.csv\"), index=False)"
   ]
  }
 ],
 "metadata": {
  "kernelspec": {
   "display_name": "Python 3 (ipykernel)",
   "language": "python",
   "name": "python3"
  },
  "language_info": {
   "codemirror_mode": {
    "name": "ipython",
    "version": 3
   },
   "file_extension": ".py",
   "mimetype": "text/x-python",
   "name": "python",
   "nbconvert_exporter": "python",
   "pygments_lexer": "ipython3",
   "version": "3.9.12"
  },
  "orig_nbformat": 4,
  "vscode": {
   "interpreter": {
    "hash": "49cb93f377a7abe7414b7b0f21fb3017538004a126cf690fb524202736b7fb92"
   }
  }
 },
 "nbformat": 4,
 "nbformat_minor": 2
}
